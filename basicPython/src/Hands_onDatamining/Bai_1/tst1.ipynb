import pandas as pd
# bài 1 Hãy viết chương trình lưu trữ dữ liệu dưới dạng file CSV.

# date = ["1/3", "2/3", "3/3", "4/3", "5/3", "6/3", "7/3"]
# goldsellingprice = [46, 47, 46, 45, 46, 46, 45]
# buyingpriceofgold = [45, 46, 45.5, 44.5, 45, 45.5, 44.5]
# table = zip(date, goldsellingprice, buyingpriceofgold)
# df = pd.DataFrame(data = table, columns=['Ngày',' Giá vàng bán ra', 'Gia vàng mua vào'])
# df.to_csv('D:\\learn_PyThon\\basicPython\\src\\Bai_1\\table.csv', index= False)

# print(f"Đã lưu file CSV:")
#--------------------------------------------------------------------------------------
#bai 2 Hãy viết chương trình lưu trữ dữ liệu dưới dạng file excel.
# import xlsxwriter
# name = ["Trung", "Cảnh", "Bảo", "Quốc", "Trung"]
# absenceoftheory = [3, 5, 1, 0, 2]
# absenceofpractice = [2, 1, 0, 0, 1]
# notsubmit = [0, 3, 0, 2, 1]
# liststd = zip(name, absenceoftheory, absenceofpractice, notsubmit)
# df = pd.DataFrame(data= liststd, columns=["Tên sinh viên", "Vắng lý thuyết", "vắng thực hành", "Không nộp bài"])
# excel_path = 'dataframe.xlsx'
# with pd.ExcelWriter(excel_path, engine="xlsxwriter") as writer:
#     df.to_excel(writer, sheet_name="Sheet1", index=False)

# print(f"Da luu")

#bài 3 

#Viết chương trình đọc và hiển thị dữ liệu từ file CSV trong bài 1

local = 'C:\\Users\\Minh Chi\\Downloads\\boDuLieu\\lab 2-3\\JOB_INFO.xlsx'
df = pd.read_excel(local)

print(df)
 
#Đọc file excel
# import openpyxl
# df = pd.read_excel("D:\\learn_PyThon\\dataframe.xlsx") 
# print(df)

# notsubmit = df[df['Không nộp bài'] == 0]
# print(notsubmit)

# absenceoftheoryandpractice = df.loc[(df['Vắng lý thuyết'] == 0) & (df['vắng thực hành'] == 0) ]
# print(absenceoftheoryandpractice)