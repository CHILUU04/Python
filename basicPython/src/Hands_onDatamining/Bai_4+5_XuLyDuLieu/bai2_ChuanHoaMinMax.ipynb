{
 "cells": [
  {
   "cell_type": "code",
   "execution_count": 1,
   "id": "cba50d94",
   "metadata": {},
   "outputs": [],
   "source": [
    "import pandas as pd\n",
    "import matplotlib.pyplot as plt # for plotting graphs\n",
    "from sklearn.preprocessing import MinMaxScaler #for scaling data\n",
    "from sklearn.cluster import KMeans # For clustering by using K-Means algorithm"
   ]
  },
  {
   "cell_type": "code",
   "execution_count": 2,
   "id": "e360ef06",
   "metadata": {},
   "outputs": [],
   "source": [
    "df = pd.read_csv('C:\\\\Users\\\\Minh Chi\\\\Downloads\\\\boDuLieu\\\\lab 4-5\\\\EmployeeSalary.csv')\n",
    "# df"
   ]
  },
  {
   "cell_type": "code",
   "execution_count": null,
   "id": "45fad719",
   "metadata": {},
   "outputs": [
    {
     "data": {
      "text/html": [
       "<div>\n",
       "<style scoped>\n",
       "    .dataframe tbody tr th:only-of-type {\n",
       "        vertical-align: middle;\n",
       "    }\n",
       "\n",
       "    .dataframe tbody tr th {\n",
       "        vertical-align: top;\n",
       "    }\n",
       "\n",
       "    .dataframe thead th {\n",
       "        text-align: right;\n",
       "    }\n",
       "</style>\n",
       "<table border=\"1\" class=\"dataframe\">\n",
       "  <thead>\n",
       "    <tr style=\"text-align: right;\">\n",
       "      <th></th>\n",
       "      <th>WorkingYears</th>\n",
       "      <th>Salary</th>\n",
       "    </tr>\n",
       "  </thead>\n",
       "  <tbody>\n",
       "    <tr>\n",
       "      <th>count</th>\n",
       "      <td>62.000000</td>\n",
       "      <td>62.000000</td>\n",
       "    </tr>\n",
       "    <tr>\n",
       "      <th>mean</th>\n",
       "      <td>13.032258</td>\n",
       "      <td>1963.548387</td>\n",
       "    </tr>\n",
       "    <tr>\n",
       "      <th>std</th>\n",
       "      <td>8.105792</td>\n",
       "      <td>988.237538</td>\n",
       "    </tr>\n",
       "    <tr>\n",
       "      <th>min</th>\n",
       "      <td>1.000000</td>\n",
       "      <td>750.000000</td>\n",
       "    </tr>\n",
       "    <tr>\n",
       "      <th>25%</th>\n",
       "      <td>6.000000</td>\n",
       "      <td>957.500000</td>\n",
       "    </tr>\n",
       "    <tr>\n",
       "      <th>50%</th>\n",
       "      <td>12.000000</td>\n",
       "      <td>1885.000000</td>\n",
       "    </tr>\n",
       "    <tr>\n",
       "      <th>75%</th>\n",
       "      <td>20.750000</td>\n",
       "      <td>2955.000000</td>\n",
       "    </tr>\n",
       "    <tr>\n",
       "      <th>max</th>\n",
       "      <td>29.000000</td>\n",
       "      <td>3710.000000</td>\n",
       "    </tr>\n",
       "  </tbody>\n",
       "</table>\n",
       "</div>"
      ],
      "text/plain": [
       "       WorkingYears       Salary\n",
       "count     62.000000    62.000000\n",
       "mean      13.032258  1963.548387\n",
       "std        8.105792   988.237538\n",
       "min        1.000000   750.000000\n",
       "25%        6.000000   957.500000\n",
       "50%       12.000000  1885.000000\n",
       "75%       20.750000  2955.000000\n",
       "max       29.000000  3710.000000"
      ]
     },
     "execution_count": 7,
     "metadata": {},
     "output_type": "execute_result"
    }
   ],
   "source": [
    "df.describe()"
   ]
  },
  {
   "cell_type": "code",
   "execution_count": 20,
   "id": "4ca23062",
   "metadata": {},
   "outputs": [
    {
     "data": {
      "image/png": "[encoded data removed]",
      "text/plain": [
       "<Figure size 640x480 with 1 Axes>"
      ]
     },
     "metadata": {},
     "output_type": "display_data"
    }
   ],
   "source": [
    "df.plot(kind='scatter', x = 'WorkingYears', y = 'Salary')\n",
    "plt.show()"
   ]
  },
  {
   "cell_type": "code",
   "execution_count": 4,
   "id": "5ba5a76e",
   "metadata": {},
   "outputs": [
    {
     "data": {
      "text/html": [
       "<div>\n",
       "<style scoped>\n",
       "    .dataframe tbody tr th:only-of-type {\n",
       "        vertical-align: middle;\n",
       "    }\n",
       "\n",
       "    .dataframe tbody tr th {\n",
       "        vertical-align: top;\n",
       "    }\n",
       "\n",
       "    .dataframe thead th {\n",
       "        text-align: right;\n",
       "    }\n",
       "</style>\n",
       "<table border=\"1\" class=\"dataframe\">\n",
       "  <thead>\n",
       "    <tr style=\"text-align: right;\">\n",
       "      <th></th>\n",
       "      <th>WorkingYears</th>\n",
       "      <th>Salary</th>\n",
       "    </tr>\n",
       "  </thead>\n",
       "  <tbody>\n",
       "    <tr>\n",
       "      <th>0</th>\n",
       "      <td>1</td>\n",
       "      <td>800</td>\n",
       "    </tr>\n",
       "    <tr>\n",
       "      <th>1</th>\n",
       "      <td>2</td>\n",
       "      <td>750</td>\n",
       "    </tr>\n",
       "    <tr>\n",
       "      <th>2</th>\n",
       "      <td>10</td>\n",
       "      <td>1720</td>\n",
       "    </tr>\n",
       "    <tr>\n",
       "      <th>3</th>\n",
       "      <td>11</td>\n",
       "      <td>1500</td>\n",
       "    </tr>\n",
       "    <tr>\n",
       "      <th>4</th>\n",
       "      <td>3</td>\n",
       "      <td>780</td>\n",
       "    </tr>\n",
       "    <tr>\n",
       "      <th>...</th>\n",
       "      <td>...</td>\n",
       "      <td>...</td>\n",
       "    </tr>\n",
       "    <tr>\n",
       "      <th>57</th>\n",
       "      <td>6</td>\n",
       "      <td>900</td>\n",
       "    </tr>\n",
       "    <tr>\n",
       "      <th>58</th>\n",
       "      <td>20</td>\n",
       "      <td>2970</td>\n",
       "    </tr>\n",
       "    <tr>\n",
       "      <th>59</th>\n",
       "      <td>21</td>\n",
       "      <td>3210</td>\n",
       "    </tr>\n",
       "    <tr>\n",
       "      <th>60</th>\n",
       "      <td>22</td>\n",
       "      <td>3250</td>\n",
       "    </tr>\n",
       "    <tr>\n",
       "      <th>61</th>\n",
       "      <td>12</td>\n",
       "      <td>1790</td>\n",
       "    </tr>\n",
       "  </tbody>\n",
       "</table>\n",
       "<p>62 rows × 2 columns</p>\n",
       "</div>"
      ],
      "text/plain": [
       "    WorkingYears  Salary\n",
       "0              1     800\n",
       "1              2     750\n",
       "2             10    1720\n",
       "3             11    1500\n",
       "4              3     780\n",
       "..           ...     ...\n",
       "57             6     900\n",
       "58            20    2970\n",
       "59            21    3210\n",
       "60            22    3250\n",
       "61            12    1790\n",
       "\n",
       "[62 rows x 2 columns]"
      ]
     },
     "execution_count": 4,
     "metadata": {},
     "output_type": "execute_result"
    }
   ],
   "source": [
    "data = df.drop(['ID'], axis=1)\n",
    "data"
   ]
  },
  {
   "cell_type": "code",
   "execution_count": 5,
   "id": "26b92298",
   "metadata": {},
   "outputs": [
    {
     "data": {
      "image/png": "[encoded data removed]",
      "text/plain": [
       "<Figure size 640x480 with 1 Axes>"
      ]
     },
     "metadata": {},
     "output_type": "display_data"
    }
   ],
   "source": [
    "data.plot(kind='box')\n",
    "plt.title('Original data')\n",
    "plt.show()  "
   ]
  },
  {
   "cell_type": "code",
   "execution_count": 14,
   "id": "20c3d604",
   "metadata": {},
   "outputs": [
    {
     "data": {
      "text/html": [
       "<div>\n",
       "<style scoped>\n",
       "    .dataframe tbody tr th:only-of-type {\n",
       "        vertical-align: middle;\n",
       "    }\n",
       "\n",
       "    .dataframe tbody tr th {\n",
       "        vertical-align: top;\n",
       "    }\n",
       "\n",
       "    .dataframe thead th {\n",
       "        text-align: right;\n",
       "    }\n",
       "</style>\n",
       "<table border=\"1\" class=\"dataframe\">\n",
       "  <thead>\n",
       "    <tr style=\"text-align: right;\">\n",
       "      <th></th>\n",
       "      <th>WorkingYears</th>\n",
       "      <th>Salary</th>\n",
       "    </tr>\n",
       "  </thead>\n",
       "  <tbody>\n",
       "    <tr>\n",
       "      <th>WorkingYears</th>\n",
       "      <td>1.0000</td>\n",
       "      <td>0.9652</td>\n",
       "    </tr>\n",
       "    <tr>\n",
       "      <th>Salary</th>\n",
       "      <td>0.9652</td>\n",
       "      <td>1.0000</td>\n",
       "    </tr>\n",
       "  </tbody>\n",
       "</table>\n",
       "</div>"
      ],
      "text/plain": [
       "              WorkingYears  Salary\n",
       "WorkingYears        1.0000  0.9652\n",
       "Salary              0.9652  1.0000"
      ]
     },
     "execution_count": 14,
     "metadata": {},
     "output_type": "execute_result"
    }
   ],
   "source": [
    "data.corr()"
   ]
  },
  {
   "cell_type": "code",
   "execution_count": null,
   "id": "61fe1f57",
   "metadata": {},
   "outputs": [
    {
     "data": {
      "text/plain": [
       "array([[0.        , 0.01689189],\n",
       "       [0.03571429, 0.        ],\n",
       "       [0.32142857, 0.3277027 ],\n",
       "       [0.35714286, 0.25337838],\n",
       "       [0.07142857, 0.01013514],\n",
       "       [0.10714286, 0.02702703],\n",
       "       [0.39285714, 0.41554054],\n",
       "       [0.42857143, 0.42567568],\n",
       "       [0.14285714, 0.03378378],\n",
       "       [0.17857143, 0.05405405],\n",
       "       [0.21428571, 0.05743243],\n",
       "       [0.25      , 0.08108108],\n",
       "       [0.28571429, 0.08445946],\n",
       "       [0.46428571, 0.4222973 ],\n",
       "       [0.5       , 0.45608108],\n",
       "       [0.53571429, 0.34797297],\n",
       "       [0.57142857, 0.37837838],\n",
       "       [0.        , 0.02027027],\n",
       "       [0.32142857, 0.45608108],\n",
       "       [0.35714286, 0.38851351],\n",
       "       [0.39285714, 0.41216216],\n",
       "       [0.42857143, 0.48986486],\n",
       "       [0.46428571, 0.45608108],\n",
       "       [0.03571429, 0.02027027],\n",
       "       [0.07142857, 0.21959459],\n",
       "       [0.10714286, 0.28716216],\n",
       "       [0.57142857, 0.47297297],\n",
       "       [0.67857143, 0.69256757],\n",
       "       [0.71428571, 0.72972973],\n",
       "       [0.75      , 0.76013514],\n",
       "       [0.39285714, 0.34797297],\n",
       "       [0.14285714, 0.00337838],\n",
       "       [0.17857143, 0.0777027 ],\n",
       "       [0.21428571, 0.08783784],\n",
       "       [0.25      , 0.11824324],\n",
       "       [0.28571429, 0.15202703],\n",
       "       [0.5       , 0.37837838],\n",
       "       [0.53571429, 0.4222973 ],\n",
       "       [0.67857143, 0.79391892],\n",
       "       [0.89285714, 0.89527027],\n",
       "       [0.92857143, 0.99662162],\n",
       "       [0.96428571, 0.97972973],\n",
       "       [1.        , 1.        ],\n",
       "       [0.71428571, 0.8277027 ],\n",
       "       [0.75      , 0.77702703],\n",
       "       [0.78571429, 0.89527027],\n",
       "       [0.82142857, 0.80067568],\n",
       "       [0.85714286, 0.96283784],\n",
       "       [0.        , 0.01013514],\n",
       "       [0.67857143, 0.72635135],\n",
       "       [0.71428571, 0.72972973],\n",
       "       [0.75      , 0.83108108],\n",
       "       [0.78571429, 0.84459459],\n",
       "       [0.03571429, 0.02364865],\n",
       "       [0.07142857, 0.06756757],\n",
       "       [0.10714286, 0.00337838],\n",
       "       [0.14285714, 0.04054054],\n",
       "       [0.17857143, 0.05067568],\n",
       "       [0.67857143, 0.75      ],\n",
       "       [0.71428571, 0.83108108],\n",
       "       [0.75      , 0.84459459],\n",
       "       [0.39285714, 0.35135135]])"
      ]
     },
     "execution_count": 16,
     "metadata": {},
     "output_type": "execute_result"
    }
   ],
   "source": [
    "#Scaling the dataset (Normalization): x_mms=(x-x_min)/(x_max- x_min)\n",
    "mms = MinMaxScaler()\n",
    "mms.fit(data)\n",
    "data_mms = mms.transform(data)\n",
    "# data_mms = mms.fit_transform(data)\n",
    "data_mms    \n"
   ]
  },
  {
   "cell_type": "code",
   "execution_count": 17,
   "id": "5c119c6b",
   "metadata": {},
   "outputs": [
    {
     "data": {
      "text/html": [
       "<div>\n",
       "<style scoped>\n",
       "    .dataframe tbody tr th:only-of-type {\n",
       "        vertical-align: middle;\n",
       "    }\n",
       "\n",
       "    .dataframe tbody tr th {\n",
       "        vertical-align: top;\n",
       "    }\n",
       "\n",
       "    .dataframe thead th {\n",
       "        text-align: right;\n",
       "    }\n",
       "</style>\n",
       "<table border=\"1\" class=\"dataframe\">\n",
       "  <thead>\n",
       "    <tr style=\"text-align: right;\">\n",
       "      <th></th>\n",
       "      <th>WorkingYears</th>\n",
       "      <th>Salary</th>\n",
       "    </tr>\n",
       "  </thead>\n",
       "  <tbody>\n",
       "    <tr>\n",
       "      <th>0</th>\n",
       "      <td>1</td>\n",
       "      <td>800</td>\n",
       "    </tr>\n",
       "    <tr>\n",
       "      <th>1</th>\n",
       "      <td>2</td>\n",
       "      <td>750</td>\n",
       "    </tr>\n",
       "    <tr>\n",
       "      <th>2</th>\n",
       "      <td>10</td>\n",
       "      <td>1720</td>\n",
       "    </tr>\n",
       "    <tr>\n",
       "      <th>3</th>\n",
       "      <td>11</td>\n",
       "      <td>1500</td>\n",
       "    </tr>\n",
       "    <tr>\n",
       "      <th>4</th>\n",
       "      <td>3</td>\n",
       "      <td>780</td>\n",
       "    </tr>\n",
       "    <tr>\n",
       "      <th>...</th>\n",
       "      <td>...</td>\n",
       "      <td>...</td>\n",
       "    </tr>\n",
       "    <tr>\n",
       "      <th>57</th>\n",
       "      <td>6</td>\n",
       "      <td>900</td>\n",
       "    </tr>\n",
       "    <tr>\n",
       "      <th>58</th>\n",
       "      <td>20</td>\n",
       "      <td>2970</td>\n",
       "    </tr>\n",
       "    <tr>\n",
       "      <th>59</th>\n",
       "      <td>21</td>\n",
       "      <td>3210</td>\n",
       "    </tr>\n",
       "    <tr>\n",
       "      <th>60</th>\n",
       "      <td>22</td>\n",
       "      <td>3250</td>\n",
       "    </tr>\n",
       "    <tr>\n",
       "      <th>61</th>\n",
       "      <td>12</td>\n",
       "      <td>1790</td>\n",
       "    </tr>\n",
       "  </tbody>\n",
       "</table>\n",
       "<p>62 rows × 2 columns</p>\n",
       "</div>"
      ],
      "text/plain": [
       "    WorkingYears  Salary\n",
       "0              1     800\n",
       "1              2     750\n",
       "2             10    1720\n",
       "3             11    1500\n",
       "4              3     780\n",
       "..           ...     ...\n",
       "57             6     900\n",
       "58            20    2970\n",
       "59            21    3210\n",
       "60            22    3250\n",
       "61            12    1790\n",
       "\n",
       "[62 rows x 2 columns]"
      ]
     },
     "execution_count": 17,
     "metadata": {},
     "output_type": "execute_result"
    }
   ],
   "source": [
    "data"
   ]
  },
  {
   "cell_type": "code",
   "execution_count": 18,
   "id": "360e22de",
   "metadata": {},
   "outputs": [
    {
     "data": {
      "text/html": [
       "<div>\n",
       "<style scoped>\n",
       "    .dataframe tbody tr th:only-of-type {\n",
       "        vertical-align: middle;\n",
       "    }\n",
       "\n",
       "    .dataframe tbody tr th {\n",
       "        vertical-align: top;\n",
       "    }\n",
       "\n",
       "    .dataframe thead th {\n",
       "        text-align: right;\n",
       "    }\n",
       "</style>\n",
       "<table border=\"1\" class=\"dataframe\">\n",
       "  <thead>\n",
       "    <tr style=\"text-align: right;\">\n",
       "      <th></th>\n",
       "      <th>Working</th>\n",
       "      <th>Salary</th>\n",
       "    </tr>\n",
       "  </thead>\n",
       "  <tbody>\n",
       "    <tr>\n",
       "      <th>0</th>\n",
       "      <td>0.000000</td>\n",
       "      <td>0.016892</td>\n",
       "    </tr>\n",
       "    <tr>\n",
       "      <th>1</th>\n",
       "      <td>0.035714</td>\n",
       "      <td>0.000000</td>\n",
       "    </tr>\n",
       "    <tr>\n",
       "      <th>2</th>\n",
       "      <td>0.321429</td>\n",
       "      <td>0.327703</td>\n",
       "    </tr>\n",
       "    <tr>\n",
       "      <th>3</th>\n",
       "      <td>0.357143</td>\n",
       "      <td>0.253378</td>\n",
       "    </tr>\n",
       "    <tr>\n",
       "      <th>4</th>\n",
       "      <td>0.071429</td>\n",
       "      <td>0.010135</td>\n",
       "    </tr>\n",
       "    <tr>\n",
       "      <th>...</th>\n",
       "      <td>...</td>\n",
       "      <td>...</td>\n",
       "    </tr>\n",
       "    <tr>\n",
       "      <th>57</th>\n",
       "      <td>0.178571</td>\n",
       "      <td>0.050676</td>\n",
       "    </tr>\n",
       "    <tr>\n",
       "      <th>58</th>\n",
       "      <td>0.678571</td>\n",
       "      <td>0.750000</td>\n",
       "    </tr>\n",
       "    <tr>\n",
       "      <th>59</th>\n",
       "      <td>0.714286</td>\n",
       "      <td>0.831081</td>\n",
       "    </tr>\n",
       "    <tr>\n",
       "      <th>60</th>\n",
       "      <td>0.750000</td>\n",
       "      <td>0.844595</td>\n",
       "    </tr>\n",
       "    <tr>\n",
       "      <th>61</th>\n",
       "      <td>0.392857</td>\n",
       "      <td>0.351351</td>\n",
       "    </tr>\n",
       "  </tbody>\n",
       "</table>\n",
       "<p>62 rows × 2 columns</p>\n",
       "</div>"
      ],
      "text/plain": [
       "     Working    Salary\n",
       "0   0.000000  0.016892\n",
       "1   0.035714  0.000000\n",
       "2   0.321429  0.327703\n",
       "3   0.357143  0.253378\n",
       "4   0.071429  0.010135\n",
       "..       ...       ...\n",
       "57  0.178571  0.050676\n",
       "58  0.678571  0.750000\n",
       "59  0.714286  0.831081\n",
       "60  0.750000  0.844595\n",
       "61  0.392857  0.351351\n",
       "\n",
       "[62 rows x 2 columns]"
      ]
     },
     "execution_count": 18,
     "metadata": {},
     "output_type": "execute_result"
    }
   ],
   "source": [
    "#Convert to Dataframe\n",
    "data_mms = pd.DataFrame(data_mms, columns=['Working', 'Salary'])\n",
    "data_mms"
   ]
  },
  {
   "cell_type": "code",
   "execution_count": 19,
   "id": "74b38d83",
   "metadata": {},
   "outputs": [
    {
     "data": {
      "image/png": "[encoded data removed]",
      "text/plain": [
       "<Figure size 640x480 with 1 Axes>"
      ]
     },
     "metadata": {},
     "output_type": "display_data"
    }
   ],
   "source": [
    "data_mms.plot(kind='scatter', x = 'Working', y = 'Salary')\n",
    "plt.show()"
   ]
  },
  {
   "cell_type": "code",
   "execution_count": 22,
   "id": "dfd9fadc",
   "metadata": {},
   "outputs": [
    {
     "data": {
      "image/png": "[encoded data removed]",
      "text/plain": [
       "<Figure size 640x480 with 1 Axes>"
      ]
     },
     "metadata": {},
     "output_type": "display_data"
    },
    {
     "data": {
      "image/png": "[encoded data removed]",
      "text/plain": [
       "<Figure size 640x480 with 1 Axes>"
      ]
     },
     "metadata": {},
     "output_type": "display_data"
    }
   ],
   "source": [
    "df.plot(kind='box')\n",
    "plt.title('original data')\n",
    "plt.show()\n",
    "\n",
    "data_mms.plot(kind='box')\n",
    "plt.title('data after max_min normalization')\n",
    "plt.show()"
   ]
  },
  {
   "cell_type": "code",
   "execution_count": 23,
   "id": "e2fc018e",
   "metadata": {},
   "outputs": [
    {
     "data": {
      "text/html": [
       "<div>\n",
       "<style scoped>\n",
       "    .dataframe tbody tr th:only-of-type {\n",
       "        vertical-align: middle;\n",
       "    }\n",
       "\n",
       "    .dataframe tbody tr th {\n",
       "        vertical-align: top;\n",
       "    }\n",
       "\n",
       "    .dataframe thead th {\n",
       "        text-align: right;\n",
       "    }\n",
       "</style>\n",
       "<table border=\"1\" class=\"dataframe\">\n",
       "  <thead>\n",
       "    <tr style=\"text-align: right;\">\n",
       "      <th></th>\n",
       "      <th>Working</th>\n",
       "      <th>Salary</th>\n",
       "    </tr>\n",
       "  </thead>\n",
       "  <tbody>\n",
       "    <tr>\n",
       "      <th>Working</th>\n",
       "      <td>1.0000</td>\n",
       "      <td>0.9652</td>\n",
       "    </tr>\n",
       "    <tr>\n",
       "      <th>Salary</th>\n",
       "      <td>0.9652</td>\n",
       "      <td>1.0000</td>\n",
       "    </tr>\n",
       "  </tbody>\n",
       "</table>\n",
       "</div>"
      ],
      "text/plain": [
       "         Working  Salary\n",
       "Working   1.0000  0.9652\n",
       "Salary    0.9652  1.0000"
      ]
     },
     "execution_count": 23,
     "metadata": {},
     "output_type": "execute_result"
    }
   ],
   "source": [
    "data_mms.corr()"
   ]
  },
  {
   "cell_type": "code",
   "execution_count": null,
   "id": "3b7d5daf",
   "metadata": {},
   "outputs": [
    {
     "data": {
      "text/plain": [
       "array([[-1.49652033, -1.18700905],\n",
       "       [-1.37214465, -1.2380172 ],\n",
       "       [-0.37713917, -0.24845906],\n",
       "       [-0.25276349, -0.47289493],\n",
       "       [-1.24776896, -1.20741231],\n",
       "       [-1.12339328, -1.15640416],\n",
       "       [-0.1283878 ,  0.01678333],\n",
       "       [-0.00401212,  0.04738822],\n",
       "       [-0.99901759, -1.1360009 ],\n",
       "       [-0.87464191, -1.07479111],\n",
       "       [-0.75026623, -1.06458948],\n",
       "       [-0.62589054, -0.99317807],\n",
       "       [-0.50151486, -0.98297644],\n",
       "       [ 0.12036357,  0.03718659],\n",
       "       [ 0.24473925,  0.13920289],\n",
       "       [ 0.36911493, -0.18724928],\n",
       "       [ 0.49349062, -0.09543461],\n",
       "       [-1.49652033, -1.17680742],\n",
       "       [-0.37713917,  0.13920289],\n",
       "       [-0.25276349, -0.06482972],\n",
       "       [-0.1283878 ,  0.0065817 ],\n",
       "       [-0.00401212,  0.24121919],\n",
       "       [ 0.12036357,  0.13920289],\n",
       "       [-1.37214465, -1.17680742],\n",
       "       [-1.24776896, -0.57491123],\n",
       "       [-1.12339328, -0.37087862],\n",
       "       [ 0.49349062,  0.19021104],\n",
       "       [ 0.86661767,  0.85331701],\n",
       "       [ 0.99099336,  0.96553494],\n",
       "       [ 1.11536904,  1.05734962],\n",
       "       [-0.1283878 , -0.18724928],\n",
       "       [-0.99901759, -1.22781557],\n",
       "       [-0.87464191, -1.0033797 ],\n",
       "       [-0.75026623, -0.97277481],\n",
       "       [-0.62589054, -0.88096014],\n",
       "       [-0.50151486, -0.77894384],\n",
       "       [ 0.24473925, -0.09543461],\n",
       "       [ 0.36911493,  0.03718659],\n",
       "       [ 0.86661767,  1.15936592],\n",
       "       [ 1.61287178,  1.46541483],\n",
       "       [ 1.73724746,  1.77146374],\n",
       "       [ 1.86162315,  1.72045559],\n",
       "       [ 1.98599883,  1.78166537],\n",
       "       [ 0.99099336,  1.26138222],\n",
       "       [ 1.11536904,  1.10835777],\n",
       "       [ 1.23974473,  1.46541483],\n",
       "       [ 1.36412041,  1.17976918],\n",
       "       [ 1.48849609,  1.66944743],\n",
       "       [-1.49652033, -1.20741231],\n",
       "       [ 0.86661767,  0.95533331],\n",
       "       [ 0.99099336,  0.96553494],\n",
       "       [ 1.11536904,  1.27158385],\n",
       "       [ 1.23974473,  1.31239037],\n",
       "       [-1.37214465, -1.16660579],\n",
       "       [-1.24776896, -1.03398459],\n",
       "       [-1.12339328, -1.22781557],\n",
       "       [-0.99901759, -1.11559764],\n",
       "       [-0.87464191, -1.08499274],\n",
       "       [ 0.86661767,  1.02674473],\n",
       "       [ 0.99099336,  1.27158385],\n",
       "       [ 1.11536904,  1.31239037],\n",
       "       [-0.1283878 , -0.17704765]])"
      ]
     },
     "execution_count": 28,
     "metadata": {},
     "output_type": "execute_result"
    }
   ],
   "source": [
    "#Standardization: x_stand=(x-mean(x))/Standard Deviation\n",
    "\n",
    "from sklearn.preprocessing import StandardScaler\n",
    "scaler = StandardScaler()\n",
    "\n",
    "\n",
    "data_scaler = scaler.fit_transform(data)\n",
    "data_scaler"
   ]
  },
  {
   "cell_type": "code",
   "execution_count": 29,
   "id": "0ae6275a",
   "metadata": {},
   "outputs": [
    {
     "data": {
      "text/html": [
       "<div>\n",
       "<style scoped>\n",
       "    .dataframe tbody tr th:only-of-type {\n",
       "        vertical-align: middle;\n",
       "    }\n",
       "\n",
       "    .dataframe tbody tr th {\n",
       "        vertical-align: top;\n",
       "    }\n",
       "\n",
       "    .dataframe thead th {\n",
       "        text-align: right;\n",
       "    }\n",
       "</style>\n",
       "<table border=\"1\" class=\"dataframe\">\n",
       "  <thead>\n",
       "    <tr style=\"text-align: right;\">\n",
       "      <th></th>\n",
       "      <th>Working</th>\n",
       "      <th>Salary</th>\n",
       "    </tr>\n",
       "  </thead>\n",
       "  <tbody>\n",
       "    <tr>\n",
       "      <th>0</th>\n",
       "      <td>-1.496520</td>\n",
       "      <td>-1.187009</td>\n",
       "    </tr>\n",
       "    <tr>\n",
       "      <th>1</th>\n",
       "      <td>-1.372145</td>\n",
       "      <td>-1.238017</td>\n",
       "    </tr>\n",
       "    <tr>\n",
       "      <th>2</th>\n",
       "      <td>-0.377139</td>\n",
       "      <td>-0.248459</td>\n",
       "    </tr>\n",
       "    <tr>\n",
       "      <th>3</th>\n",
       "      <td>-0.252763</td>\n",
       "      <td>-0.472895</td>\n",
       "    </tr>\n",
       "    <tr>\n",
       "      <th>4</th>\n",
       "      <td>-1.247769</td>\n",
       "      <td>-1.207412</td>\n",
       "    </tr>\n",
       "    <tr>\n",
       "      <th>...</th>\n",
       "      <td>...</td>\n",
       "      <td>...</td>\n",
       "    </tr>\n",
       "    <tr>\n",
       "      <th>57</th>\n",
       "      <td>-0.874642</td>\n",
       "      <td>-1.084993</td>\n",
       "    </tr>\n",
       "    <tr>\n",
       "      <th>58</th>\n",
       "      <td>0.866618</td>\n",
       "      <td>1.026745</td>\n",
       "    </tr>\n",
       "    <tr>\n",
       "      <th>59</th>\n",
       "      <td>0.990993</td>\n",
       "      <td>1.271584</td>\n",
       "    </tr>\n",
       "    <tr>\n",
       "      <th>60</th>\n",
       "      <td>1.115369</td>\n",
       "      <td>1.312390</td>\n",
       "    </tr>\n",
       "    <tr>\n",
       "      <th>61</th>\n",
       "      <td>-0.128388</td>\n",
       "      <td>-0.177048</td>\n",
       "    </tr>\n",
       "  </tbody>\n",
       "</table>\n",
       "<p>62 rows × 2 columns</p>\n",
       "</div>"
      ],
      "text/plain": [
       "     Working    Salary\n",
       "0  -1.496520 -1.187009\n",
       "1  -1.372145 -1.238017\n",
       "2  -0.377139 -0.248459\n",
       "3  -0.252763 -0.472895\n",
       "4  -1.247769 -1.207412\n",
       "..       ...       ...\n",
       "57 -0.874642 -1.084993\n",
       "58  0.866618  1.026745\n",
       "59  0.990993  1.271584\n",
       "60  1.115369  1.312390\n",
       "61 -0.128388 -0.177048\n",
       "\n",
       "[62 rows x 2 columns]"
      ]
     },
     "execution_count": 29,
     "metadata": {},
     "output_type": "execute_result"
    }
   ],
   "source": [
    "data_scaler = pd.DataFrame(data_scaler, columns=['Working', 'Salary']);\n",
    "data_scaler"
   ]
  },
  {
   "cell_type": "code",
   "execution_count": null,
   "id": "5ef93ebf",
   "metadata": {},
   "outputs": [
    {
     "data": {
      "image/png": "[encoded data removed]",
      "text/plain": [
       "<Figure size 640x480 with 1 Axes>"
      ]
     },
     "metadata": {},
     "output_type": "display_data"
    }
   ],
   "source": [
    "data_scaler.plot(kind='scatter', x = 'WorkingYear', y = 'Salary')\n",
    "plt.show()"
   ]
  },
  {
   "cell_type": "code",
   "execution_count": 31,
   "id": "535b80dd",
   "metadata": {},
   "outputs": [
    {
     "data": {
      "image/png": "[encoded data removed]",
      "text/plain": [
       "<Figure size 640x480 with 1 Axes>"
      ]
     },
     "metadata": {},
     "output_type": "display_data"
    },
    {
     "data": {
      "image/png": "[encoded data removed]",
      "text/plain": [
       "<Figure size 640x480 with 1 Axes>"
      ]
     },
     "metadata": {},
     "output_type": "display_data"
    },
    {
     "data": {
      "image/png": "[encoded data removed]",
      "text/plain": [
       "<Figure size 640x480 with 1 Axes>"
      ]
     },
     "metadata": {},
     "output_type": "display_data"
    }
   ],
   "source": [
    "data.plot(kind='box')\n",
    "plt.title('original data')\n",
    "plt.show()\n",
    "\n",
    "#\n",
    "\n",
    "data_mms.plot(kind = 'box')\n",
    "plt.title('data after min-max scaling')\n",
    "plt.show()\n",
    "#\n",
    "\n",
    "data_scaler.plot(kind = 'box')\n",
    "plt.title('data after standardization')\n",
    "plt.show()\n",
    "\n"
   ]
  }
 ],
 "metadata": {
  "kernelspec": {
   "display_name": ".venv",
   "language": "python",
   "name": "python3"
  },
  "language_info": {
   "codemirror_mode": {
    "name": "ipython",
    "version": 3
   },
   "file_extension": ".py",
   "mimetype": "text/x-python",
   "name": "python",
   "nbconvert_exporter": "python",
   "pygments_lexer": "ipython3",
   "version": "3.13.2"
  }
 },
 "nbformat": 4,
 "nbformat_minor": 5
}
