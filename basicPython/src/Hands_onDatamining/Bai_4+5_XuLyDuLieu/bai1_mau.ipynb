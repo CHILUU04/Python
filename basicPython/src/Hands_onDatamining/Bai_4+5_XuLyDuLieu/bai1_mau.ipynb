{
 "cells": [
  {
   "cell_type": "code",
   "execution_count": 4,
   "metadata": {},
   "outputs": [],
   "source": [
    "\n",
    "import pandas as pd\n",
    "import numpy as np"
   ]
  },
  {
   "cell_type": "code",
   "execution_count": 3,
   "metadata": {},
   "outputs": [],
   "source": [
    "df = pd.read_excel('C:\\\\Users\\\\Minh Chi\\\\Downloads\\\\boDulieu\\\\lab 4-5\\\\JOB_INFO.xlsx')\n"
   ]
  },
  {
   "cell_type": "code",
   "execution_count": 5,
   "metadata": {},
   "outputs": [
    {
     "data": {
      "text/html": [
       "<div>\n",
       "<style scoped>\n",
       "    .dataframe tbody tr th:only-of-type {\n",
       "        vertical-align: middle;\n",
       "    }\n",
       "\n",
       "    .dataframe tbody tr th {\n",
       "        vertical-align: top;\n",
       "    }\n",
       "\n",
       "    .dataframe thead th {\n",
       "        text-align: right;\n",
       "    }\n",
       "</style>\n",
       "<table border=\"1\" class=\"dataframe\">\n",
       "  <thead>\n",
       "    <tr style=\"text-align: right;\">\n",
       "      <th></th>\n",
       "      <th>Age</th>\n",
       "      <th>WorkingYear</th>\n",
       "      <th>Salary</th>\n",
       "      <th>TrainedYear</th>\n",
       "    </tr>\n",
       "  </thead>\n",
       "  <tbody>\n",
       "    <tr>\n",
       "      <th>count</th>\n",
       "      <td>44.000000</td>\n",
       "      <td>45.000000</td>\n",
       "      <td>46.000000</td>\n",
       "      <td>43.000000</td>\n",
       "    </tr>\n",
       "    <tr>\n",
       "      <th>mean</th>\n",
       "      <td>28.977273</td>\n",
       "      <td>4.133333</td>\n",
       "      <td>1143.847826</td>\n",
       "      <td>3.976744</td>\n",
       "    </tr>\n",
       "    <tr>\n",
       "      <th>std</th>\n",
       "      <td>4.406595</td>\n",
       "      <td>1.739906</td>\n",
       "      <td>238.132360</td>\n",
       "      <td>1.318158</td>\n",
       "    </tr>\n",
       "    <tr>\n",
       "      <th>min</th>\n",
       "      <td>22.000000</td>\n",
       "      <td>1.000000</td>\n",
       "      <td>766.000000</td>\n",
       "      <td>2.000000</td>\n",
       "    </tr>\n",
       "    <tr>\n",
       "      <th>25%</th>\n",
       "      <td>26.750000</td>\n",
       "      <td>3.000000</td>\n",
       "      <td>894.250000</td>\n",
       "      <td>3.000000</td>\n",
       "    </tr>\n",
       "    <tr>\n",
       "      <th>50%</th>\n",
       "      <td>28.500000</td>\n",
       "      <td>4.000000</td>\n",
       "      <td>1216.500000</td>\n",
       "      <td>4.000000</td>\n",
       "    </tr>\n",
       "    <tr>\n",
       "      <th>75%</th>\n",
       "      <td>31.000000</td>\n",
       "      <td>5.000000</td>\n",
       "      <td>1347.250000</td>\n",
       "      <td>5.000000</td>\n",
       "    </tr>\n",
       "    <tr>\n",
       "      <th>max</th>\n",
       "      <td>39.000000</td>\n",
       "      <td>7.000000</td>\n",
       "      <td>1457.000000</td>\n",
       "      <td>7.000000</td>\n",
       "    </tr>\n",
       "  </tbody>\n",
       "</table>\n",
       "</div>"
      ],
      "text/plain": [
       "             Age  WorkingYear       Salary  TrainedYear\n",
       "count  44.000000    45.000000    46.000000    43.000000\n",
       "mean   28.977273     4.133333  1143.847826     3.976744\n",
       "std     4.406595     1.739906   238.132360     1.318158\n",
       "min    22.000000     1.000000   766.000000     2.000000\n",
       "25%    26.750000     3.000000   894.250000     3.000000\n",
       "50%    28.500000     4.000000  1216.500000     4.000000\n",
       "75%    31.000000     5.000000  1347.250000     5.000000\n",
       "max    39.000000     7.000000  1457.000000     7.000000"
      ]
     },
     "execution_count": 5,
     "metadata": {},
     "output_type": "execute_result"
    }
   ],
   "source": [
    "df.describe(include=np.number)"
   ]
  },
  {
   "cell_type": "code",
   "execution_count": 6,
   "metadata": {},
   "outputs": [
    {
     "data": {
      "text/html": [
       "<div>\n",
       "<style scoped>\n",
       "    .dataframe tbody tr th:only-of-type {\n",
       "        vertical-align: middle;\n",
       "    }\n",
       "\n",
       "    .dataframe tbody tr th {\n",
       "        vertical-align: top;\n",
       "    }\n",
       "\n",
       "    .dataframe thead th {\n",
       "        text-align: right;\n",
       "    }\n",
       "</style>\n",
       "<table border=\"1\" class=\"dataframe\">\n",
       "  <thead>\n",
       "    <tr style=\"text-align: right;\">\n",
       "      <th></th>\n",
       "      <th>ENO</th>\n",
       "      <th>Dept</th>\n",
       "      <th>Gender</th>\n",
       "      <th>Skill</th>\n",
       "      <th>OverseaProject</th>\n",
       "    </tr>\n",
       "  </thead>\n",
       "  <tbody>\n",
       "    <tr>\n",
       "      <th>count</th>\n",
       "      <td>46</td>\n",
       "      <td>44</td>\n",
       "      <td>45</td>\n",
       "      <td>46</td>\n",
       "      <td>46</td>\n",
       "    </tr>\n",
       "    <tr>\n",
       "      <th>unique</th>\n",
       "      <td>46</td>\n",
       "      <td>3</td>\n",
       "      <td>2</td>\n",
       "      <td>4</td>\n",
       "      <td>2</td>\n",
       "    </tr>\n",
       "    <tr>\n",
       "      <th>top</th>\n",
       "      <td>E001</td>\n",
       "      <td>IT</td>\n",
       "      <td>Male</td>\n",
       "      <td>SQL</td>\n",
       "      <td>No</td>\n",
       "    </tr>\n",
       "    <tr>\n",
       "      <th>freq</th>\n",
       "      <td>1</td>\n",
       "      <td>25</td>\n",
       "      <td>30</td>\n",
       "      <td>14</td>\n",
       "      <td>31</td>\n",
       "    </tr>\n",
       "  </tbody>\n",
       "</table>\n",
       "</div>"
      ],
      "text/plain": [
       "         ENO Dept Gender Skill OverseaProject\n",
       "count     46   44     45    46             46\n",
       "unique    46    3      2     4              2\n",
       "top     E001   IT   Male   SQL             No\n",
       "freq       1   25     30    14             31"
      ]
     },
     "execution_count": 6,
     "metadata": {},
     "output_type": "execute_result"
    }
   ],
   "source": [
    "df.describe(include='object')"
   ]
  },
  {
   "cell_type": "code",
   "execution_count": 7,
   "metadata": {},
   "outputs": [
    {
     "data": {
      "text/plain": [
       "ENO               0\n",
       "Age               2\n",
       "Dept              2\n",
       "Gender            1\n",
       "Skill             0\n",
       "WorkingYear       1\n",
       "Salary            0\n",
       "TrainedYear       3\n",
       "OverseaProject    0\n",
       "dtype: int64"
      ]
     },
     "execution_count": 7,
     "metadata": {},
     "output_type": "execute_result"
    }
   ],
   "source": [
    "# kiểm tra số lượng giá trị bị thiếu \n",
    "printEmpty = df.isnull().sum()\n",
    "printEmpty"
   ]
  },
  {
   "cell_type": "code",
   "execution_count": null,
   "metadata": {},
   "outputs": [
    {
     "data": {
      "text/html": [
       "<div>\n",
       "<style scoped>\n",
       "    .dataframe tbody tr th:only-of-type {\n",
       "        vertical-align: middle;\n",
       "    }\n",
       "\n",
       "    .dataframe tbody tr th {\n",
       "        vertical-align: top;\n",
       "    }\n",
       "\n",
       "    .dataframe thead th {\n",
       "        text-align: right;\n",
       "    }\n",
       "</style>\n",
       "<table border=\"1\" class=\"dataframe\">\n",
       "  <thead>\n",
       "    <tr style=\"text-align: right;\">\n",
       "      <th></th>\n",
       "      <th>ENO</th>\n",
       "      <th>Age</th>\n",
       "      <th>Dept</th>\n",
       "      <th>Gender</th>\n",
       "      <th>Skill</th>\n",
       "      <th>WorkingYear</th>\n",
       "      <th>Salary</th>\n",
       "      <th>TrainedYear</th>\n",
       "      <th>OverseaProject</th>\n",
       "    </tr>\n",
       "  </thead>\n",
       "  <tbody>\n",
       "    <tr>\n",
       "      <th>2</th>\n",
       "      <td>E003</td>\n",
       "      <td>NaN</td>\n",
       "      <td>IT</td>\n",
       "      <td>Male</td>\n",
       "      <td>SQL</td>\n",
       "      <td>6.0</td>\n",
       "      <td>1236</td>\n",
       "      <td>NaN</td>\n",
       "      <td>Yes</td>\n",
       "    </tr>\n",
       "    <tr>\n",
       "      <th>6</th>\n",
       "      <td>E007</td>\n",
       "      <td>27.0</td>\n",
       "      <td>NaN</td>\n",
       "      <td>Male</td>\n",
       "      <td>SQL</td>\n",
       "      <td>2.0</td>\n",
       "      <td>1154</td>\n",
       "      <td>5.0</td>\n",
       "      <td>No</td>\n",
       "    </tr>\n",
       "    <tr>\n",
       "      <th>7</th>\n",
       "      <td>E008</td>\n",
       "      <td>28.0</td>\n",
       "      <td>MA</td>\n",
       "      <td>Female</td>\n",
       "      <td>R</td>\n",
       "      <td>NaN</td>\n",
       "      <td>1356</td>\n",
       "      <td>6.0</td>\n",
       "      <td>Yes</td>\n",
       "    </tr>\n",
       "    <tr>\n",
       "      <th>9</th>\n",
       "      <td>E010</td>\n",
       "      <td>37.0</td>\n",
       "      <td>IT</td>\n",
       "      <td>NaN</td>\n",
       "      <td>C#</td>\n",
       "      <td>6.0</td>\n",
       "      <td>892</td>\n",
       "      <td>3.0</td>\n",
       "      <td>No</td>\n",
       "    </tr>\n",
       "    <tr>\n",
       "      <th>11</th>\n",
       "      <td>E012</td>\n",
       "      <td>NaN</td>\n",
       "      <td>HR</td>\n",
       "      <td>Male</td>\n",
       "      <td>C#</td>\n",
       "      <td>5.0</td>\n",
       "      <td>852</td>\n",
       "      <td>2.0</td>\n",
       "      <td>No</td>\n",
       "    </tr>\n",
       "    <tr>\n",
       "      <th>13</th>\n",
       "      <td>E014</td>\n",
       "      <td>28.0</td>\n",
       "      <td>NaN</td>\n",
       "      <td>Female</td>\n",
       "      <td>C#</td>\n",
       "      <td>4.0</td>\n",
       "      <td>766</td>\n",
       "      <td>2.0</td>\n",
       "      <td>No</td>\n",
       "    </tr>\n",
       "    <tr>\n",
       "      <th>18</th>\n",
       "      <td>E019</td>\n",
       "      <td>31.0</td>\n",
       "      <td>HR</td>\n",
       "      <td>Female</td>\n",
       "      <td>C#</td>\n",
       "      <td>4.0</td>\n",
       "      <td>1128</td>\n",
       "      <td>NaN</td>\n",
       "      <td>No</td>\n",
       "    </tr>\n",
       "    <tr>\n",
       "      <th>23</th>\n",
       "      <td>E024</td>\n",
       "      <td>30.0</td>\n",
       "      <td>IT</td>\n",
       "      <td>Male</td>\n",
       "      <td>Java</td>\n",
       "      <td>5.0</td>\n",
       "      <td>1448</td>\n",
       "      <td>NaN</td>\n",
       "      <td>No</td>\n",
       "    </tr>\n",
       "  </tbody>\n",
       "</table>\n",
       "</div>"
      ],
      "text/plain": [
       "     ENO   Age Dept  Gender Skill  WorkingYear  Salary  TrainedYear  \\\n",
       "2   E003   NaN   IT    Male   SQL          6.0    1236          NaN   \n",
       "6   E007  27.0  NaN    Male   SQL          2.0    1154          5.0   \n",
       "7   E008  28.0   MA  Female     R          NaN    1356          6.0   \n",
       "9   E010  37.0   IT     NaN    C#          6.0     892          3.0   \n",
       "11  E012   NaN   HR    Male    C#          5.0     852          2.0   \n",
       "13  E014  28.0  NaN  Female    C#          4.0     766          2.0   \n",
       "18  E019  31.0   HR  Female    C#          4.0    1128          NaN   \n",
       "23  E024  30.0   IT    Male  Java          5.0    1448          NaN   \n",
       "\n",
       "   OverseaProject  \n",
       "2             Yes  \n",
       "6              No  \n",
       "7             Yes  \n",
       "9              No  \n",
       "11             No  \n",
       "13             No  \n",
       "18             No  \n",
       "23             No  "
      ]
     },
     "execution_count": 3,
     "metadata": {},
     "output_type": "execute_result"
    }
   ],
   "source": [
    "# liệt kê những giá trị thiếu\n",
    "# khởi tạo là giá trị boolean đơn (false)\n",
    "mask = False\n",
    "for col in df.columns:\n",
    "    mask = mask | df[col].isnull() #nó sẽ trả về true nếu giá trị là NaN, false nếu không thực hiện mask hiện tại\n",
    "    datanull = df[mask] #để chọn ra tất cả các dòng mà có ít nhất một giá trị thiếu.\n",
    "datanull"
   ]
  },
  {
   "cell_type": "code",
   "execution_count": null,
   "metadata": {},
   "outputs": [
    {
     "name": "stdout",
     "output_type": "stream",
     "text": [
      "Age            2\n",
      "Dept           2\n",
      "Gender         1\n",
      "WorkingYear    1\n",
      "TrainedYear    3\n",
      "dtype: int64\n"
     ]
    }
   ],
   "source": [
    "#hiển thị những trường có giá trị null và sô giá trị null\n",
    "null_columns = df.columns[df.isnull().any()] # theo mặc định sẽ thực hiện trên axis=0 (theo cột), \n",
    "#nghĩa là nó kiểm tra từng cột xem có ít nhất một giá trị True (tức là ít nhất một giá trị thiếu) hay không.\n",
    "print(df[null_columns].isnull().sum())"
   ]
  },
  {
   "cell_type": "code",
   "execution_count": 8,
   "metadata": {},
   "outputs": [
    {
     "data": {
      "text/plain": [
       "(38, 9)"
      ]
     },
     "execution_count": 8,
     "metadata": {},
     "output_type": "execute_result"
    }
   ],
   "source": [
    "data1 = df.copy()\n",
    "data1.dropna(inplace=True) # mục đích của inplace = true thì nó sẽ thay đổi trực tiếp trong dataframe gốc\n",
    "check = data1.isnull().sum()\n",
    "check\n",
    "data1.shape"
   ]
  },
  {
   "cell_type": "code",
   "execution_count": 8,
   "metadata": {},
   "outputs": [
    {
     "name": "stdout",
     "output_type": "stream",
     "text": [
      "0\n"
     ]
    },
    {
     "name": "stderr",
     "output_type": "stream",
     "text": [
      "C:\\Users\\Minh Chi\\AppData\\Local\\Temp\\ipykernel_20688\\305518683.py:2: FutureWarning: A value is trying to be set on a copy of a DataFrame or Series through chained assignment using an inplace method.\n",
      "The behavior will change in pandas 3.0. This inplace method will never work because the intermediate object on which we are setting values always behaves as a copy.\n",
      "\n",
      "For example, when doing 'df[col].method(value, inplace=True)', try using 'df.method({col: value}, inplace=True)' or df[col] = df[col].method(value) instead, to perform the operation inplace on the original object.\n",
      "\n",
      "\n",
      "  data2['Age'].fillna(data2['Age'].mean(), inplace= True)\n"
     ]
    }
   ],
   "source": [
    "data2 = df.copy()\n",
    "data2['Age'].fillna(data2['Age'].mean(), inplace= True)\n",
    "print(data2['Age'].isna().sum())"
   ]
  },
  {
   "cell_type": "code",
   "execution_count": null,
   "metadata": {},
   "outputs": [],
   "source": [
    "df.to_csv('D:\\\\learn_PyThon\\\\basicPython\\\\src\\\\Bai_4+5\\\\dataMissingOK.csv')\n"
   ]
  },
  {
   "cell_type": "code",
   "execution_count": 6,
   "metadata": {},
   "outputs": [
    {
     "name": "stdout",
     "output_type": "stream",
     "text": [
      "Gender    0\n",
      "Skill     0\n",
      "dtype: int64\n"
     ]
    },
    {
     "name": "stderr",
     "output_type": "stream",
     "text": [
      "C:\\Users\\Minh Chi\\AppData\\Local\\Temp\\ipykernel_18344\\2239713306.py:6: FutureWarning: A value is trying to be set on a copy of a DataFrame or Series through chained assignment using an inplace method.\n",
      "The behavior will change in pandas 3.0. This inplace method will never work because the intermediate object on which we are setting values always behaves as a copy.\n",
      "\n",
      "For example, when doing 'df[col].method(value, inplace=True)', try using 'df.method({col: value}, inplace=True)' or df[col] = df[col].method(value) instead, to perform the operation inplace on the original object.\n",
      "\n",
      "\n",
      "  df['Gender'].fillna(mode_gender, inplace=True)\n",
      "C:\\Users\\Minh Chi\\AppData\\Local\\Temp\\ipykernel_18344\\2239713306.py:7: FutureWarning: A value is trying to be set on a copy of a DataFrame or Series through chained assignment using an inplace method.\n",
      "The behavior will change in pandas 3.0. This inplace method will never work because the intermediate object on which we are setting values always behaves as a copy.\n",
      "\n",
      "For example, when doing 'df[col].method(value, inplace=True)', try using 'df.method({col: value}, inplace=True)' or df[col] = df[col].method(value) instead, to perform the operation inplace on the original object.\n",
      "\n",
      "\n",
      "  df['Skill'].fillna(mode_skills, inplace=True)\n"
     ]
    }
   ],
   "source": [
    "# thay the gia tri thieu cua truong gender va skill bang gia tri xuat hien thuong xuyen nhat\n",
    "# The first one we find the mode() của từng trường\n",
    "mode_gender = df['Gender'].mode()[0] # mục đích của số 0 thì nó sẽ lấy gia tri mode đầu tiên tránh trường hợp trùng nhiều giá trị \n",
    "mode_skills = df['Skill'].mode()[0]\n",
    "#  thay the vào những trường xuất hiện thường xuyên ở nó\n",
    "df['Gender'].fillna(mode_gender, inplace=True)\n",
    "df['Skill'].fillna(mode_skills, inplace=True)\n",
    "print(df[['Gender', 'Skill']].isnull().sum())"
   ]
  },
  {
   "cell_type": "code",
   "execution_count": null,
   "metadata": {},
   "outputs": [],
   "source": [
    "df['Dept'].fillna('Khongbiet', inplace= True) # nó sẽ thay đổi giá trị trên file\n",
    "print(df['Dept'].isnull().sum())\n",
    "print(df)\n",
    "\n"
   ]
  },
  {
   "cell_type": "code",
   "execution_count": 18,
   "metadata": {},
   "outputs": [],
   "source": [
    "# df_encoded = pd.get_dummies(\n",
    "#     df,\n",
    "#     columns=['Dept', 'Gender', 'Skill', 'OverseaProject'],  # liệt kê các cột cần dummify\n",
    "#     drop_first=True,                             # bỏ 1 dummy để tránh đa cộng tuyến (dummy trap)\n",
    "#     dtype=int                                    # ép kiểu 0/1\n",
    "# )\n",
    "\n",
    "# df_encoded"
   ]
  },
  {
   "cell_type": "code",
   "execution_count": null,
   "metadata": {},
   "outputs": [],
   "source": [
    "df.to_csv('D:\\\\learn_PyThon\\\\basicPython\\\\src\\\\Bai_4+5\\\\Dlht.csv')"
   ]
  }
 ],
 "metadata": {
  "kernelspec": {
   "display_name": "Python 3",
   "language": "python",
   "name": "python3"
  },
  "language_info": {
   "codemirror_mode": {
    "name": "ipython",
    "version": 3
   },
   "file_extension": ".py",
   "mimetype": "text/x-python",
   "name": "python",
   "nbconvert_exporter": "python",
   "pygments_lexer": "ipython3",
   "version": "3.13.2"
  }
 },
 "nbformat": 4,
 "nbformat_minor": 2
}
