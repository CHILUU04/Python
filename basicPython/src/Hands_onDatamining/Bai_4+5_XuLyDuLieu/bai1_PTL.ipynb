{
 "cells": [
  {
   "cell_type": "code",
   "execution_count": 1,
   "metadata": {},
   "outputs": [],
   "source": [
    "import pandas as pd\n",
    "import sklearn\n",
    "from sklearn.preprocessing import MultiLabelBinarizer\n"
   ]
  },
  {
   "cell_type": "code",
   "execution_count": 3,
   "metadata": {},
   "outputs": [
    {
     "name": "stderr",
     "output_type": "stream",
     "text": [
      "C:\\Users\\Minh Chi\\AppData\\Local\\Temp\\ipykernel_2132\\337312672.py:1: DtypeWarning: Columns (14) have mixed types. Specify dtype option on import or set low_memory=False.\n",
      "  df = pd.read_csv('C:\\\\Users\\\\Minh Chi\\\\Downloads\\\\boDuLieu\\\\lab 4-5\\\\ThiTHPT2018.csv')\n"
     ]
    }
   ],
   "source": [
    "df = pd.read_csv('C:\\\\Users\\\\Minh Chi\\\\Downloads\\\\boDuLieu\\\\lab 4-5\\\\ThiTHPT2018.csv')\n",
    "# df"
   ]
  },
  {
   "cell_type": "code",
   "execution_count": 4,
   "metadata": {},
   "outputs": [
    {
     "name": "stdout",
     "output_type": "stream",
     "text": [
      "0\n"
     ]
    },
    {
     "name": "stderr",
     "output_type": "stream",
     "text": [
      "C:\\Users\\Minh Chi\\AppData\\Local\\Temp\\ipykernel_2132\\639322316.py:2: FutureWarning: A value is trying to be set on a copy of a DataFrame or Series through chained assignment using an inplace method.\n",
      "The behavior will change in pandas 3.0. This inplace method will never work because the intermediate object on which we are setting values always behaves as a copy.\n",
      "\n",
      "For example, when doing 'df[col].method(value, inplace=True)', try using 'df.method({col: value}, inplace=True)' or df[col] = df[col].method(value) instead, to perform the operation inplace on the original object.\n",
      "\n",
      "\n",
      "  df[\"Toan\"].fillna(adv_math, inplace=True)   # thay đổi thẳng trên df\n"
     ]
    }
   ],
   "source": [
    "adv_math = df[\"Toan\"].mean()\n",
    "df[\"Toan\"].fillna(adv_math, inplace=True)   # thay đổi thẳng trên df\n",
    "print(df[\"Toan\"].isnull().sum())\n"
   ]
  },
  {
   "cell_type": "code",
   "execution_count": 10,
   "metadata": {},
   "outputs": [
    {
     "name": "stdout",
     "output_type": "stream",
     "text": [
      "0\n"
     ]
    },
    {
     "name": "stderr",
     "output_type": "stream",
     "text": [
      "C:\\Users\\Minh Chi\\AppData\\Local\\Temp\\ipykernel_28256\\1058186430.py:2: FutureWarning: A value is trying to be set on a copy of a DataFrame or Series through chained assignment using an inplace method.\n",
      "The behavior will change in pandas 3.0. This inplace method will never work because the intermediate object on which we are setting values always behaves as a copy.\n",
      "\n",
      "For example, when doing 'df[col].method(value, inplace=True)', try using 'df.method({col: value}, inplace=True)' or df[col] = df[col].method(value) instead, to perform the operation inplace on the original object.\n",
      "\n",
      "\n",
      "  df['Van'].fillna(us_Van, inplace=True)\n"
     ]
    }
   ],
   "source": [
    "us_Van = df['Van'].mode()[0];\n",
    "df['Van'].fillna(us_Van, inplace=True)\n",
    "print(df['Van'].isna().sum())"
   ]
  },
  {
   "cell_type": "code",
   "execution_count": null,
   "metadata": {},
   "outputs": [
    {
     "name": "stderr",
     "output_type": "stream",
     "text": [
      "C:\\Users\\Minh Chi\\AppData\\Local\\Temp\\ipykernel_11740\\3160079279.py:14: FutureWarning: A value is trying to be set on a copy of a DataFrame or Series through chained assignment using an inplace method.\n",
      "The behavior will change in pandas 3.0. This inplace method will never work because the intermediate object on which we are setting values always behaves as a copy.\n",
      "\n",
      "For example, when doing 'df[col].method(value, inplace=True)', try using 'df.method({col: value}, inplace=True)' or df[col] = df[col].method(value) instead, to perform the operation inplace on the original object.\n",
      "\n",
      "\n",
      "  df['Anh'].fillna(df['mode_Anh'], inplace= True)\n"
     ]
    },
    {
     "data": {
      "text/plain": [
       "18        5.000000\n",
       "170       2.600000\n",
       "178       3.200000\n",
       "189       3.200000\n",
       "194       2.800000\n",
       "            ...   \n",
       "743440    3.933543\n",
       "743504    3.933543\n",
       "743513    3.933543\n",
       "743516    3.933543\n",
       "743586    3.933543\n",
       "Name: Anh, Length: 33869, dtype: float64"
      ]
     },
     "execution_count": 28,
     "metadata": {},
     "output_type": "execute_result"
    }
   ],
   "source": [
    "#Anh văn thay thế bằng giá trị thường xuyên theo trường tên tỉnh.\n",
    "df['mode_Anh'] = df.groupby('Ten Tinh')['Anh'].transform(\n",
    "    lambda x: x.mode().iat[0]\n",
    "    if not x.mode().empty\n",
    "    else None\n",
    "    )\n",
    "\n",
    "# transform: Thực hiện phép biến đổi trả về đúng kích thước như cột gốc, nghĩa là với mỗi hàng ban đầu, mình sẽ sinh ra một giá trị kết quả tương ứng.\n",
    "#  lambda x.. :  Một hàm ẩn danh (anonymous function), nhận vào x là Series chứa tất cả các giá trị “Anh” của một tỉnh.\n",
    "\n",
    "# if not x.mode().empty else None\n",
    "# Kiểm tra xem x.mode() có trả về rỗng không (trường hợp nhóm đó toàn NaN, không có giá trị nào để tính mode).\n",
    "# Nếu không rỗng, tiếp tục lấy giá trị đầu tiên của mode.\n",
    "# Nếu rỗng, trả về None (hoặc bạn có thể thay là một số mặc định khác).\n",
    "df['Anh'].fillna(df['mode_Anh'], inplace= True)\n",
    "df['Anh']"
   ]
  },
  {
   "cell_type": "code",
   "execution_count": null,
   "metadata": {},
   "outputs": [
    {
     "data": {
      "text/html": [
       "<div>\n",
       "<style scoped>\n",
       "    .dataframe tbody tr th:only-of-type {\n",
       "        vertical-align: middle;\n",
       "    }\n",
       "\n",
       "    .dataframe tbody tr th {\n",
       "        vertical-align: top;\n",
       "    }\n",
       "\n",
       "    .dataframe thead th {\n",
       "        text-align: right;\n",
       "    }\n",
       "</style>\n",
       "<table border=\"1\" class=\"dataframe\">\n",
       "  <thead>\n",
       "    <tr style=\"text-align: right;\">\n",
       "      <th></th>\n",
       "      <th>Toan</th>\n",
       "      <th>Van</th>\n",
       "      <th>Anh</th>\n",
       "      <th>Ly</th>\n",
       "      <th>Hoa</th>\n",
       "      <th>Sinh</th>\n",
       "      <th>Su</th>\n",
       "      <th>Dia</th>\n",
       "      <th>GDCD</th>\n",
       "    </tr>\n",
       "  </thead>\n",
       "  <tbody>\n",
       "    <tr>\n",
       "      <th>0</th>\n",
       "      <td>3.0</td>\n",
       "      <td>3.75</td>\n",
       "      <td>3.0</td>\n",
       "      <td>Khong Thi</td>\n",
       "      <td>Khong Thi</td>\n",
       "      <td>Khong Thi</td>\n",
       "      <td>3.0</td>\n",
       "      <td>6.5</td>\n",
       "      <td>8.25</td>\n",
       "    </tr>\n",
       "    <tr>\n",
       "      <th>1</th>\n",
       "      <td>8.8</td>\n",
       "      <td>7.5</td>\n",
       "      <td>9.0</td>\n",
       "      <td>Khong Thi</td>\n",
       "      <td>Khong Thi</td>\n",
       "      <td>Khong Thi</td>\n",
       "      <td>6.0</td>\n",
       "      <td>9.0</td>\n",
       "      <td>8.25</td>\n",
       "    </tr>\n",
       "    <tr>\n",
       "      <th>2</th>\n",
       "      <td>6.0</td>\n",
       "      <td>5.5</td>\n",
       "      <td>4.0</td>\n",
       "      <td>5.75</td>\n",
       "      <td>5.5</td>\n",
       "      <td>5.0</td>\n",
       "      <td>Khong Thi</td>\n",
       "      <td>Khong Thi</td>\n",
       "      <td>Khong Thi</td>\n",
       "    </tr>\n",
       "    <tr>\n",
       "      <th>3</th>\n",
       "      <td>3.4</td>\n",
       "      <td>5.75</td>\n",
       "      <td>2.6</td>\n",
       "      <td>Khong Thi</td>\n",
       "      <td>Khong Thi</td>\n",
       "      <td>Khong Thi</td>\n",
       "      <td>3.5</td>\n",
       "      <td>4.75</td>\n",
       "      <td>7.25</td>\n",
       "    </tr>\n",
       "    <tr>\n",
       "      <th>4</th>\n",
       "      <td>3.8</td>\n",
       "      <td>6.75</td>\n",
       "      <td>3.0</td>\n",
       "      <td>Khong Thi</td>\n",
       "      <td>Khong Thi</td>\n",
       "      <td>Khong Thi</td>\n",
       "      <td>3.5</td>\n",
       "      <td>6.25</td>\n",
       "      <td>8.0</td>\n",
       "    </tr>\n",
       "    <tr>\n",
       "      <th>...</th>\n",
       "      <td>...</td>\n",
       "      <td>...</td>\n",
       "      <td>...</td>\n",
       "      <td>...</td>\n",
       "      <td>...</td>\n",
       "      <td>...</td>\n",
       "      <td>...</td>\n",
       "      <td>...</td>\n",
       "      <td>...</td>\n",
       "    </tr>\n",
       "    <tr>\n",
       "      <th>744391</th>\n",
       "      <td>4.6</td>\n",
       "      <td>4.5</td>\n",
       "      <td>6.0</td>\n",
       "      <td>3.75</td>\n",
       "      <td>3.0</td>\n",
       "      <td>3.25</td>\n",
       "      <td>Khong Thi</td>\n",
       "      <td>Khong Thi</td>\n",
       "      <td>Khong Thi</td>\n",
       "    </tr>\n",
       "    <tr>\n",
       "      <th>744392</th>\n",
       "      <td>7.0</td>\n",
       "      <td>6.0</td>\n",
       "      <td>5.0</td>\n",
       "      <td>5.25</td>\n",
       "      <td>5.5</td>\n",
       "      <td>4.0</td>\n",
       "      <td>Khong Thi</td>\n",
       "      <td>Khong Thi</td>\n",
       "      <td>Khong Thi</td>\n",
       "    </tr>\n",
       "    <tr>\n",
       "      <th>744393</th>\n",
       "      <td>5.2</td>\n",
       "      <td>3.5</td>\n",
       "      <td>4.0</td>\n",
       "      <td>6.25</td>\n",
       "      <td>5.5</td>\n",
       "      <td>2.25</td>\n",
       "      <td>Khong Thi</td>\n",
       "      <td>Khong Thi</td>\n",
       "      <td>Khong Thi</td>\n",
       "    </tr>\n",
       "    <tr>\n",
       "      <th>744394</th>\n",
       "      <td>7.8</td>\n",
       "      <td>4.5</td>\n",
       "      <td>5.4</td>\n",
       "      <td>7.5</td>\n",
       "      <td>6.25</td>\n",
       "      <td>3.0</td>\n",
       "      <td>Khong Thi</td>\n",
       "      <td>Khong Thi</td>\n",
       "      <td>Khong Thi</td>\n",
       "    </tr>\n",
       "    <tr>\n",
       "      <th>744395</th>\n",
       "      <td>5.8</td>\n",
       "      <td>3.5</td>\n",
       "      <td>3.0</td>\n",
       "      <td>6.25</td>\n",
       "      <td>4.75</td>\n",
       "      <td>3.25</td>\n",
       "      <td>Khong Thi</td>\n",
       "      <td>Khong Thi</td>\n",
       "      <td>Khong Thi</td>\n",
       "    </tr>\n",
       "  </tbody>\n",
       "</table>\n",
       "<p>744396 rows × 9 columns</p>\n",
       "</div>"
      ],
      "text/plain": [
       "       Toan   Van  Anh         Ly        Hoa       Sinh         Su        Dia  \\\n",
       "0       3.0  3.75  3.0  Khong Thi  Khong Thi  Khong Thi        3.0        6.5   \n",
       "1       8.8   7.5  9.0  Khong Thi  Khong Thi  Khong Thi        6.0        9.0   \n",
       "2       6.0   5.5  4.0       5.75        5.5        5.0  Khong Thi  Khong Thi   \n",
       "3       3.4  5.75  2.6  Khong Thi  Khong Thi  Khong Thi        3.5       4.75   \n",
       "4       3.8  6.75  3.0  Khong Thi  Khong Thi  Khong Thi        3.5       6.25   \n",
       "...     ...   ...  ...        ...        ...        ...        ...        ...   \n",
       "744391  4.6   4.5  6.0       3.75        3.0       3.25  Khong Thi  Khong Thi   \n",
       "744392  7.0   6.0  5.0       5.25        5.5        4.0  Khong Thi  Khong Thi   \n",
       "744393  5.2   3.5  4.0       6.25        5.5       2.25  Khong Thi  Khong Thi   \n",
       "744394  7.8   4.5  5.4        7.5       6.25        3.0  Khong Thi  Khong Thi   \n",
       "744395  5.8   3.5  3.0       6.25       4.75       3.25  Khong Thi  Khong Thi   \n",
       "\n",
       "             GDCD  \n",
       "0            8.25  \n",
       "1            8.25  \n",
       "2       Khong Thi  \n",
       "3            7.25  \n",
       "4             8.0  \n",
       "...           ...  \n",
       "744391  Khong Thi  \n",
       "744392  Khong Thi  \n",
       "744393  Khong Thi  \n",
       "744394  Khong Thi  \n",
       "744395  Khong Thi  \n",
       "\n",
       "[744396 rows x 9 columns]"
      ]
     },
     "execution_count": 5,
     "metadata": {},
     "output_type": "execute_result"
    }
   ],
   "source": [
    "# loại bỏ các cột định danh\n",
    "# id_col = ['SoBD', 'Ma Tinh', 'Ten Tinh', 'Vung mien']\n",
    "\n",
    "# Cách 1: dựa vào kiểu dữ liệu\n",
    "# subject_cols = df.select_dtypes(include=['float64'])\n",
    "# Cách 2: dựa vào pattern tên cột (ví dụ chứa \"Diem\" hoặc tên các môn)\n",
    "subject_cols = [c for c in df.columns if c.startswith(('Toan','Van','Anh', 'Ly', 'Hoa', 'Sinh', 'Su', 'Dia', 'GDCD'))]\n",
    "\n",
    "# Chuyển toàn bộ NaN trong các cột môn thành chuỗi \"Khong thi\"\n",
    "df[subject_cols] = df[subject_cols].fillna('Khong Thi')\n",
    "df[subject_cols]"
   ]
  },
  {
   "cell_type": "code",
   "execution_count": null,
   "metadata": {},
   "outputs": [
    {
     "data": {
      "text/plain": [
       "['Ly', 'Hoa', 'Sinh', 'Unnamed: 10', 'KhoiA', 'KhoiB', 'KhoiA1']"
      ]
     },
     "execution_count": 7,
     "metadata": {},
     "output_type": "execute_result"
    }
   ],
   "source": [
    "\n",
    "# để liệt kê những cột có giá trị thiếu >= 50% thì đầu tiên\n",
    "# cần # 1. Tính tỉ lệ NaN cho mỗi cột\n",
    "giaTriNull = df.isnull().mean();\n",
    "# Lọc ra những cột có tỉ lệ NaN >= 50%\n",
    "cols_over50 = giaTriNull[giaTriNull >= 0.5].index.to_list() # mục đích của index.to_list là Lấy tên các cột (index của Series) mà điều kiện đúng, chuyển thành list.\n",
    "# df.drop(cols_over50, inplace = True)\n",
    "cols_over50"
   ]
  },
  {
   "cell_type": "code",
   "execution_count": 38,
   "metadata": {},
   "outputs": [
    {
     "name": "stderr",
     "output_type": "stream",
     "text": [
      "C:\\Users\\Minh Chi\\AppData\\Local\\Temp\\ipykernel_11740\\3577249424.py:10: FutureWarning: A value is trying to be set on a copy of a DataFrame or Series through chained assignment using an inplace method.\n",
      "The behavior will change in pandas 3.0. This inplace method will never work because the intermediate object on which we are setting values always behaves as a copy.\n",
      "\n",
      "For example, when doing 'df[col].method(value, inplace=True)', try using 'df.method({col: value}, inplace=True)' or df[col] = df[col].method(value) instead, to perform the operation inplace on the original object.\n",
      "\n",
      "\n",
      "  df[col].fillna(mean_val, inplace = True)\n",
      "C:\\Users\\Minh Chi\\AppData\\Local\\Temp\\ipykernel_11740\\3577249424.py:15: FutureWarning: A value is trying to be set on a copy of a DataFrame or Series through chained assignment using an inplace method.\n",
      "The behavior will change in pandas 3.0. This inplace method will never work because the intermediate object on which we are setting values always behaves as a copy.\n",
      "\n",
      "For example, when doing 'df[col].method(value, inplace=True)', try using 'df.method({col: value}, inplace=True)' or df[col] = df[col].method(value) instead, to perform the operation inplace on the original object.\n",
      "\n",
      "\n",
      "  df[col].fillna(modes.iat[0], inplace = True)\n"
     ]
    }
   ],
   "source": [
    "#  dùng hàm is_numeric_dtype trong module pandas.api.types để kiểm tra kiểu dữ liệu của cột:\n",
    "giaTriThieu = df.isnull().mean();\n",
    "#liet ke nhung gia tri thieu <= 20\n",
    "cols_min_20 = giaTriThieu[giaTriThieu < 0.2].index.to_list()\n",
    "# cols_min_20\n",
    "for col in cols_min_20:\n",
    "    if pd.api.types.is_numeric_dtype(df[col]): # dùng hàm is_numeric_dtype trong module pandas.api.types để kiểm tra kiểu dữ liệu của cột:\n",
    "        # a) Numeric → dùng mean\n",
    "        mean_val = df[col].mean()\n",
    "        df[col].fillna(mean_val, inplace = True)\n",
    "    else: \n",
    "        # b) Non-numeric → dùng mode (giá trị phổ biến nhất)\n",
    "        modes = df[col].mode()\n",
    "        if not modes.empty:\n",
    "            df[col].fillna(modes.iat[0], inplace = True)\n",
    "        else: \n",
    "            df[col].fillna(\"unknow\", inplace = True)\n",
    "\n"
   ]
  },
  {
   "cell_type": "code",
   "execution_count": 39,
   "metadata": {},
   "outputs": [],
   "source": [
    "from scipy.stats import zscore\n",
    "\n",
    "df.dropna(subset=['Hoa','Ly', 'Dia'], inplace=True)\n",
    "\n",
    "# Chuẩn hóa z-score cho các môn: Hóa, lý, Địa\n",
    "df_zscore = df[['Hoa', 'Ly', 'Dia']]\n",
    "z_Scoreee = zscore(df_zscore)\n",
    "z_Scoreee\n",
    "df.to_csv('TotnghiepOK.csv')\n",
    "#  NHÌN VÀO KẾT QUẢ TA HIỂU  (33869, 3) TỨC \n",
    "# Có 33.869 hàng – mỗi hàng tương ứng với một học sinh (sau khi bạn đã loại bỏ những hàng thiếu điểm ở Hoa, Lý, Địa).\n",
    "# Có 3 cột, lần lượt là z-score của ba môn Hóa, Lý, Địa.\n",
    "\n",
    "# Học sinh này có điểm Hóa cao hơn 0.7126 độ lệch chuẩn so với trung bình cộng của lớp.\n",
    "# Điểm Lý cao hơn 2.0843 độ lệch chuẩn so với trung bình.\n",
    "# Điểm Địa cao hơn 2.1609 độ lệch chuẩn so với trung bình.\n",
    "# Tương tự, giá trị âm (ví dụ -0.3197) nghĩa là học sinh đó thấp hơn trung bình 0.3197 độ lệch chuẩn."
   ]
  },
  {
   "cell_type": "code",
   "execution_count": null,
   "metadata": {},
   "outputs": [],
   "source": []
  }
 ],
 "metadata": {
  "kernelspec": {
   "display_name": ".venv",
   "language": "python",
   "name": "python3"
  },
  "language_info": {
   "codemirror_mode": {
    "name": "ipython",
    "version": 3
   },
   "file_extension": ".py",
   "mimetype": "text/x-python",
   "name": "python",
   "nbconvert_exporter": "python",
   "pygments_lexer": "ipython3",
   "version": "3.13.2"
  }
 },
 "nbformat": 4,
 "nbformat_minor": 2
}
